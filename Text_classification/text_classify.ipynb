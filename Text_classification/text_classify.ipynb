{
  "nbformat": 4,
  "nbformat_minor": 0,
  "metadata": {
    "colab": {
      "name": "Копия блокнота \"Интенсив 10.08-12.08. День #2. Обработка текста\"",
      "provenance": [],
      "collapsed_sections": [
        "4wwfOsB8YHiC",
        "EGoFeaFhQ8WP",
        "qQ8Qz-WCEQNw",
        "EKxMunXYb_5b",
        "hNeiRyb_YXus"
      ]
    },
    "kernelspec": {
      "name": "python3",
      "display_name": "Python 3"
    },
    "language_info": {
      "name": "python"
    },
    "accelerator": "GPU"
  },
  "cells": [
    {
      "cell_type": "code",
      "metadata": {
        "id": "qC14uC_lmy27",
        "colab": {
          "base_uri": "https://localhost:8080/"
        },
        "outputId": "4a5ce315-baea-4d6b-8f02-6319a15795d5"
      },
      "source": [
        "!pip -q install terra_ai\n",
        "from terra_ai import терра_ии"
      ],
      "execution_count": null,
      "outputs": [
        {
          "output_type": "stream",
          "text": [
            "Все необходимые библиотеки установлены и готовы к работе\n"
          ],
          "name": "stdout"
        }
      ]
    },
    {
      "cell_type": "markdown",
      "metadata": {
        "id": "EKxMunXYb_5b"
      },
      "source": [
        "## Задание № 1. Подбор кандидата на должность менеджера по продажам.  \n",
        "\n",
        "Создайте нейросеть, которая будет определять подходит ли кандидат на должность в Университете искусственного интеллекта.  \n",
        "\n",
        "1. Загрузите базу;  \n",
        "2. Покажите примеры из загруженной базы;  \n",
        "3. Сделайте предобработку данных для обучающей и тестовой выборки;  \n",
        "4. Создайте полносвязную модель;  \n",
        "5. Продемонстрируйте схему созданной модели;  \n",
        "6. Обучите свою модель;  \n",
        "7. Проведите тестирование модели.  \n",
        "\n",
        "Постарайтесь воспроизвести все этапы по памяти."
      ]
    },
    {
      "cell_type": "markdown",
      "metadata": {
        "id": "6_OQCuhfi7bC"
      },
      "source": [
        "### Работа с базой."
      ]
    },
    {
      "cell_type": "code",
      "metadata": {
        "id": "ZxvB8aaEhVsX",
        "colab": {
          "base_uri": "https://localhost:8080/"
        },
        "outputId": "44000a88-d6e3-4115-b525-c3e95634b284"
      },
      "source": [
        "# Скачиваем базу вакансий\n",
        "терра_ии.загрузить_базу(база = 'ВАКАНСИИ',\n",
        "                        справка = 'Показать')"
      ],
      "execution_count": null,
      "outputs": [
        {
          "output_type": "stream",
          "text": [
            "Загрузка данных завершена \n",
            "\n",
            "url: https://storage.googleapis.com/terra_ai/DataSets/HR.zip\n",
            "Вы скачали базу вакансий.\n"
          ],
          "name": "stdout"
        }
      ]
    },
    {
      "cell_type": "code",
      "metadata": {
        "id": "WtAImkbshVsh",
        "colab": {
          "base_uri": "https://localhost:8080/"
        },
        "outputId": "60eab90d-f523-4553-f2c1-5def38c59c7d"
      },
      "source": [
        "# Примеры из базы\n",
        "терра_ии.показать_примеры(база = 'Вакансии')"
      ],
      "execution_count": null,
      "outputs": [
        {
          "output_type": "stream",
          "text": [
            "Пример резюме:\n",
            "\n",
            "Пол:                         Ж\n",
            "Возраст:                     39\n",
            "Город:                       Бугульма\n",
            "Готовность к переезду:       готов к переезду\n",
            "Готовность к командировкам:  не готов к командировкам\n",
            "Гражданство:                 Россия\n",
            "Разрешение на работу:        Россия\n",
            "Знания языков:               Русский\n",
            "Образование:                 Высшее образование\n",
            "Дополнительное образование:  Данные не указаны\n",
            "Зарплата:                    50000.0\n",
            "Время в пути до работы:      не имеет значения\n",
            "Занятость:                   полная занятость\n",
            "График:                      полный день, удаленная работа\n",
            "Опыт работы (мес):           115\n",
            "Обязанности на пред.работе:  Продажи обучений пожарно-техническому минимуму, экологической безопасности, гражданской обороне и чр\n",
            "                             езвычайных ситуаций, охрана труда, мед. помощь и др., заключение договоров, поддержание отношений с \n",
            "                             клиентами с целью последующего сотрудничества, Консультация клиентов по условиям кредитов, подбор по\n",
            "                             дходящих условий оформления кредита, оформление кредита, оформление кредитных карт, продажа страховы\n",
            "                             х продуктов, ОСАГО, оформление в НПФ, работа с кассой, 1С рарус, проведение инвентаризации, сдача ин\n",
            "                             кассации., Предварительная оценка платежеспособности клиента, проверка документов, подбор предложени\n",
            "---------------------------------------------------------------\n",
            "Подходит ли кандидат:        да\n",
            "---------------------------------------------------------------\n",
            "\n",
            "Пример резюме:\n",
            "\n",
            "Пол:                         М\n",
            "Возраст:                     32\n",
            "Город:                       Пермь\n",
            "Готовность к переезду:       не готов к переезду\n",
            "Готовность к командировкам:  готов к командировкам\n",
            "Гражданство:                 Россия\n",
            "Разрешение на работу:        Россия\n",
            "Знания языков:               Русский Английский\n",
            "Образование:                 Высшее образование\n",
            "Дополнительное образование:  Данные не указаны\n",
            "Зарплата:                    50000.0\n",
            "Время в пути до работы:      не имеет значения\n",
            "Занятость:                   частичная занятость, проектная работа, полная занятость\n",
            "График:                      гибкий график, полный день, сменный график, удаленная работа\n",
            "Опыт работы (мес):           107\n",
            "Обязанности на пред.работе:  Ведение клиента с начала, до подписания контракта.Помощь в организации отдела продаж.Участие и орган\n",
            "                             изация мероприятий компании.Подготовка презентаций продукта.Холодный поиск клиентов., Холодные звонк\n",
            "                             иОбщение на уровне первых лиц компанииПроведение презентации по телефонуЗаключение договоров и помощ\n",
            "                             ь клиенту на всех этапах работы, Ведение предпринимательской деятельности: поиск и привлечение клиен\n",
            "                             тов, создание и ведение групп в соцсетях, сайта, ведение бухгалтерской отчетности, разработка страте\n",
            "                             гии продвижения продукции.Создание отдела продаж: Подбор персонала, контроль за работой отдела, пров\n",
            "---------------------------------------------------------------\n",
            "Подходит ли кандидат:        да\n",
            "---------------------------------------------------------------\n",
            "\n",
            "Пример резюме:\n",
            "\n",
            "Пол:                         Ж\n",
            "Возраст:                     25\n",
            "Город:                       Чехов\n",
            "Готовность к переезду:       не готов к переезду\n",
            "Готовность к командировкам:  не готов к командировкам\n",
            "Гражданство:                 Россия\n",
            "Разрешение на работу:        Россия\n",
            "Знания языков:               Русский\n",
            "Образование:                 Среднее образование\n",
            "Дополнительное образование:  Данные не указаны\n",
            "Зарплата:                    45000.0\n",
            "Время в пути до работы:      не имеет значения\n",
            "Занятость:                   полная занятость\n",
            "График:                      удаленная работа\n",
            "Опыт работы (мес):           47\n",
            "Обязанности на пред.работе:  • Контроль поручений руководителя.• Ведение документооборота по проекту.• Подготовка закрывающих док\n",
            "                             ументов.• Учет рабочего времени команды.• Помощь руководителю отдела в реализации задач.• Подготовка\n",
            "                              презентаций по проекту, отражающих текущий статус состояния проектов.• Создание и поддержка в актуа\n",
            "                             льном состоянии сводных таблиц в Excel• Организация встреч.• Контроль сроков работ команды.• Своевре\n",
            "                             менная подготовка и предоставление внутренней отчетности.• Формирование регулярных отчетов.• Организ\n",
            "                             ация встреч, для решения рабочих вопросов .• Организация рабочего места новых сотрудников.• Сбор мат\n",
            "---------------------------------------------------------------\n",
            "Подходит ли кандидат:        да\n",
            "---------------------------------------------------------------\n",
            "\n"
          ],
          "name": "stdout"
        }
      ]
    },
    {
      "cell_type": "markdown",
      "metadata": {
        "id": "9JqosOyOjC_x"
      },
      "source": [
        "Обработка базы и создание выборок."
      ]
    },
    {
      "cell_type": "code",
      "metadata": {
        "id": "quliYq4ohVsi"
      },
      "source": [
        "# Создаем обучающую и проверочную выборки\n",
        "(обучающая_выборка, метки_обучающей_выборки), (тестовая_выборка, метки_тестовой_выборки) = терра_ии.создать_выборки_вакансии()"
      ],
      "execution_count": null,
      "outputs": []
    },
    {
      "cell_type": "markdown",
      "metadata": {
        "id": "c9GBv7L2jqKh"
      },
      "source": [
        "### Создание сети"
      ]
    },
    {
      "cell_type": "markdown",
      "metadata": {
        "id": "89WkcSQlh4qC"
      },
      "source": [
        "Создайте нейронную сеть, которая будет включать в себя полносвязные слои в формате:\n",
        "\n",
        "```\n",
        "# Пример, Полносвязный-128 означает, что мы используем Полновязный слой на 128 нейронов.\n",
        "слои='Полносвязный-128\\\n",
        " Полносвязный-2'\n",
        "```\n",
        "Попробуйте изменить количество нейронов и обучите модель."
      ]
    },
    {
      "cell_type": "code",
      "metadata": {
        "id": "DaskQQ4WhVsi",
        "colab": {
          "base_uri": "https://localhost:8080/"
        },
        "outputId": "773a87eb-9f4f-4455-f98f-3ac4d8eb367b"
      },
      "source": [
        "# Указываем слои создаваемой модели\n",
        "слои = 'Полносвязный-256\\\n",
        " Полносвязный-2'\n",
        "\n",
        "# Получаем входной размер данных\n",
        "входной_размер = терра_ии.получить_входной_размер(обучающая_выборка)\n",
        "\n",
        "# Создаем модель\n",
        "нейронка = терра_ии.создать_сеть(\n",
        "    слои = слои,\n",
        "    входной_размер = входной_размер,\n",
        "    задача='классификация изображений'\n",
        "    )"
      ],
      "execution_count": null,
      "outputs": [
        {
          "output_type": "stream",
          "text": [
            "Создана модель нейронной сети!\n"
          ],
          "name": "stdout"
        }
      ]
    },
    {
      "cell_type": "markdown",
      "metadata": {
        "id": "uBVjjD9Hj_rJ"
      },
      "source": [
        "Визуализация структуры."
      ]
    },
    {
      "cell_type": "code",
      "metadata": {
        "id": "qiWQsMBohVsj",
        "colab": {
          "base_uri": "https://localhost:8080/",
          "height": 194
        },
        "outputId": "cd2bae59-b377-4492-b8cb-8bfc9bce8dde"
      },
      "source": [
        "# Покажите структуру сети, с помощью функции из terra_ai. терра_ии.схема_модели(внутри функции указывается нейросеть, которую вы создали)\n",
        "терра_ии.схема_модели(нейронка)"
      ],
      "execution_count": null,
      "outputs": [
        {
          "output_type": "stream",
          "text": [
            "Схема модели:\n"
          ],
          "name": "stdout"
        },
        {
          "output_type": "execute_result",
          "data": {
            "image/png": "[encoded data removed]",
            "text/plain": [
              "<IPython.core.display.Image object>"
            ]
          },
          "metadata": {
            "tags": []
          },
          "execution_count": 32
        }
      ]
    },
    {
      "cell_type": "markdown",
      "metadata": {
        "id": "yiLjxzBHjt2J"
      },
      "source": [
        "### Обучение модели."
      ]
    },
    {
      "cell_type": "code",
      "metadata": {
        "colab": {
          "base_uri": "https://localhost:8080/",
          "height": 621
        },
        "id": "5zhDWdsgK_VS",
        "outputId": "74c929d2-1ac1-496f-fbab-a7551012a66b"
      },
      "source": [
        "# Обучаем модель\n",
        "эксперимент = терра_ии.обучение_модели(\n",
        "    нейронка,\n",
        "    обучающая_выборка, метки_обучающей_выборки,\n",
        "    тестовая_выборка, метки_тестовой_выборки,\n",
        "    размер_пакета = 64,\n",
        "    количество_эпох = 250,\n",
        "    количество_запусков = 10)"
      ],
      "execution_count": null,
      "outputs": [
        {
          "output_type": "stream",
          "text": [
            "Запуск №1   Время обучения: 7.08c Точность на обучающей выборке: 97.0%       Точность на проверочной выборке: 90.15%\n",
            "Запуск №2   Время обучения: 8.14c Точность на обучающей выборке: 97.8%       Точность на проверочной выборке: 89.39%\n",
            "Запуск №3   Время обучения: 7.72c Точность на обучающей выборке: 97.4%       Точность на проверочной выборке: 89.77%\n",
            "Запуск №4   Время обучения: 11.43cТочность на обучающей выборке: 97.8%       Точность на проверочной выборке: 89.77%\n",
            "Запуск №5   Время обучения: 7.04c Точность на обучающей выборке: 97.8%       Точность на проверочной выборке: 89.39%\n",
            "Запуск №6   Время обучения: 7.14c Точность на обучающей выборке: 97.6%       Точность на проверочной выборке: 89.39%\n",
            "Запуск №7   Время обучения: 7.13c Точность на обучающей выборке: 97.0%       Точность на проверочной выборке: 90.15%\n",
            "Запуск №8   Время обучения: 7.35c Точность на обучающей выборке: 97.4%       Точность на проверочной выборке: 89.77%\n",
            "\u001b[42m\u001b[37mЗапуск №9   Время обучения: 7.89c Точность на обучающей выборке: 98.0%       Точность на проверочной выборке: 90.53%\u001b[0m\n",
            "Запуск №10  Время обучения: 14.71cТочность на обучающей выборке: 97.4%       Точность на проверочной выборке: 89.77%\n",
            "\n",
            "Средняя точность на обучающей выборке:    97.52% \n",
            "Средняя точность на проверочной выборке:  89.81%\n"
          ],
          "name": "stdout"
        },
        {
          "output_type": "display_data",
          "data": {
            "image/png": "[encoded data removed]",
            "text/plain": [
              "<Figure size 864x432 with 1 Axes>"
            ]
          },
          "metadata": {
            "tags": []
          }
        }
      ]
    },
    {
      "cell_type": "markdown",
      "metadata": {
        "id": "3YgR-I0Tj0cJ"
      },
      "source": [
        "### Тестирование модели."
      ]
    },
    {
      "cell_type": "code",
      "metadata": {
        "id": "G-axjPZRhVsk",
        "colab": {
          "base_uri": "https://localhost:8080/"
        },
        "outputId": "be8ec8f5-bcc4-40f3-8a63-397285576358"
      },
      "source": [
        "терра_ии.тест_модели_вакансии(нейронка,\n",
        "                              тестовая_выборка, метки_тестовой_выборки)"
      ],
      "execution_count": null,
      "outputs": [
        {
          "output_type": "stream",
          "text": [
            "Тестовое резюме:\n",
            "\n",
            "Пол:                         Ж\n",
            "Возраст:                     31\n",
            "Город:                       Москва\n",
            "Готовность к переезду:       готов к переезду\n",
            "Готовность к командировкам:  готов к командировкам\n",
            "Гражданство:                 Россия\n",
            "Разрешение на работу:        Россия\n",
            "Знания языков:               Русский Английский\n",
            "Образование:                 Среднее специальное образование\n",
            "Дополнительное образование:  ИП Жиганов\n",
            "Зарплата:                    60000.0\n",
            "Время в пути до работы:      не имеет значения\n",
            "Занятость:                   полная занятость\n",
            "График:                      полный день\n",
            "Опыт работы (мес):           100\n",
            "Обязанности на пред.работе:  Введение и поддержка туристических агентствВыполнение планов продажИнформирование агента о новинках \n",
            "                             компанииПолное сопровождение агента по работе во франчайзенговой сети, - консультирование агентств п\n",
            "                             о продуктам компании;- консультирование агентств по отельной базе по всем странам мира- консультиров\n",
            "                             ание агентств по визам- консультирование агентств по сотрудничеству- консультирование агентств по ра\n",
            "                             боте с сайтом- консультирование агентств по страхованию- консультирование агентств по изменению брон\n",
            "                             ирования- работа с туристическими агентствами;, - консультирование агентств по продуктам компании;- \n",
            "\n",
            "Модель уверена, что кандидат подходит в УИИ на: 1.55%\n",
            "---------------------------------------------------------------\n",
            "Подходит ли кандидат на самом деле:  нет\n",
            "---------------------------------------------------------------\n",
            "\n",
            "Тестовое резюме:\n",
            "\n",
            "Пол:                         М\n",
            "Возраст:                     28\n",
            "Город:                       Москва\n",
            "Готовность к переезду:       готов к переезду\n",
            "Готовность к командировкам:  готов к командировкам\n",
            "Гражданство:                 Россия\n",
            "Разрешение на работу:        Россия\n",
            "Знания языков:               Русский Английский\n",
            "Образование:                 Среднее образование\n",
            "Дополнительное образование:  Данные не указаны\n",
            "Зарплата:                    100000.0\n",
            "Время в пути до работы:      не имеет значения\n",
            "Занятость:                   стажировка, волонтерство, частичная занятость, проектная работа, полная занятость\n",
            "График:                      гибкий график, полный день, сменный график, вахтовый метод, удаленная работа\n",
            "Опыт работы (мес):           48\n",
            "Обязанности на пред.работе:  - Имеется опыт в пиаре, развитие компаний, проектов, групп и пабликов.- Навыки в таргетированной рек\n",
            "                             ламе в вк, посевы постов (привлечение целевых подписчиков).- Минимальные затраты на развитие паблико\n",
            "                             в в вк, умение монетизировать и отбивать затраты на развитие группы.- Есть положительный опыт в арби\n",
            "                             траже трафика.- Развиваю свои группы и работаю по найму, привлекаю подписчиков по минимальным ценам.\n",
            "                              (все проекты, которые развивал и развиваю, могу показать и предоставить отзывы о моей работе)- Имее\n",
            "                             тся опыт в развитие региональных групп, сообществ научной тематики, спортивных сообществ (имеется ке\n",
            "\n",
            "Модель уверена, что кандидат подходит в УИИ на: 0.0%\n",
            "---------------------------------------------------------------\n",
            "Подходит ли кандидат на самом деле:  нет\n",
            "---------------------------------------------------------------\n",
            "\n",
            "Тестовое резюме:\n",
            "\n",
            "Пол:                         М\n",
            "Возраст:                     34\n",
            "Город:                       Москва\n",
            "Готовность к переезду:       готов к переезду\n",
            "Готовность к командировкам:  готов к командировкам\n",
            "Гражданство:                 Россия\n",
            "Разрешение на работу:        Россия\n",
            "Знания языков:               Русский Английский\n",
            "Образование:                 Высшее образование\n",
            "Дополнительное образование:  Данные не указаны\n",
            "Зарплата:                    80000.0\n",
            "Время в пути до работы:      не имеет значения\n",
            "Занятость:                   стажировка, частичная занятость, проектная работа, полная занятость\n",
            "График:                      гибкий график, полный день, сменный график, вахтовый метод, удаленная работа\n",
            "Опыт работы (мес):           80\n",
            "Обязанности на пред.работе:  Работал в строительной фирме менеджером по продажам,по совместительству личным помощником ген.директ\n",
            "                             ора.Мои обязанности: поиск новых клиентов; взаимодействие с клиентами; поиск исполнителей; выезды на\n",
            "                              объекты;составление и просчёт смет;контроль качества выполненных работ;обратная связь;составление д\n",
            "                             оговоров и т.д!Встреча и сопровождение офиц.лиц !, Организация и проведение распродаж по Москве и М.\n",
            "                             О, Техн. документация,организация и контроль новых закупок,маркетинговое планирование,поиск новых кл\n",
            "                             иентов и т.д\n",
            "\n",
            "Модель уверена, что кандидат подходит в УИИ на: 99.98%\n",
            "---------------------------------------------------------------\n",
            "Подходит ли кандидат на самом деле:  да\n",
            "---------------------------------------------------------------\n",
            "\n"
          ],
          "name": "stdout"
        }
      ]
    },
    {
      "cell_type": "markdown",
      "metadata": {
        "id": "hNeiRyb_YXus"
      },
      "source": [
        "## Задание № 2. Классификация отзывов автомобиля Тесла.  \n",
        "\n",
        "Создайте нейросеть, которая будет распознавать эмоциональную окраску отзывов из базы Tesla.\n",
        "\n",
        "1. Загрузите базу;  \n",
        "2. Покажите примеры из загруженной базы;  \n",
        "3. Сделайте предобработку данных для обучающей и тестовой выборки;  \n",
        "4. Создайте полносвязную модель;  \n",
        "5. Продемонстрируйте схему созданной модели;  \n",
        "6. Обучите свою модель;  \n",
        "7. Проведите тестирование модели.  \n",
        "\n",
        "Постарайтесь воспроизвести все этапы по памяти."
      ]
    },
    {
      "cell_type": "markdown",
      "metadata": {
        "id": "t7eVaEDucGqP"
      },
      "source": [
        "### Работа с базой."
      ]
    },
    {
      "cell_type": "code",
      "metadata": {
        "id": "M-6BRYfgTE9z",
        "colab": {
          "base_uri": "https://localhost:8080/"
        },
        "outputId": "65f5dada-3bb1-406a-edc1-bcfc579f4f31"
      },
      "source": [
        "# Загружаем базу отзывов Tesla\n",
        "терра_ии.загрузить_базу(база = 'TESLA', \n",
        "                        справка = 'Показать')"
      ],
      "execution_count": null,
      "outputs": [
        {
          "output_type": "stream",
          "text": [
            "Загрузка данных завершена \n",
            "\n",
            "url: https://storage.googleapis.com/terra_ai/DataSets/tesla.zip\n",
            "Вы скачали базу отзывов владельцев автомобилями Tesla\n"
          ],
          "name": "stdout"
        }
      ]
    },
    {
      "cell_type": "code",
      "metadata": {
        "id": "ae4EF8K7TG_6",
        "colab": {
          "base_uri": "https://localhost:8080/"
        },
        "outputId": "0c734987-8c22-449d-eb51-6ee6a164b19c"
      },
      "source": [
        "# Выводим примеры\n",
        "терра_ии.показать_примеры(база = 'TESLA')"
      ],
      "execution_count": null,
      "outputs": [
        {
          "output_type": "stream",
          "text": [
            "В данной базе находятся положительные и негативные отзывы об автомобилях Tesla:\n",
            "['Негативный отзыв', 'Позитивный отзыв']\n",
            "\n",
            "Пример отзыва:\n",
            "Тип отзыва:  Позитивный отзыв\n",
            "Отзывы:\n",
            "     *  Водитель наслаждается от такого авто и вождения  Красивая машина нужно брать  Тесла топ, тащусь от \n"
          ],
          "name": "stdout"
        }
      ]
    },
    {
      "cell_type": "markdown",
      "metadata": {
        "id": "5E3LvAt4boTa"
      },
      "source": [
        "Обработка базы и создание выборок."
      ]
    },
    {
      "cell_type": "code",
      "metadata": {
        "id": "GcdE4vNfTJUi",
        "colab": {
          "base_uri": "https://localhost:8080/"
        },
        "outputId": "cd009ac1-04f7-4e5c-81dd-8c9dc77139d2"
      },
      "source": [
        "# Задаем параметры для формирования выборок\n",
        "количество_анализируемых_слов = '10000'\n",
        "размер_окна = '50'\n",
        "шаг = '10'\n",
        "# Создаем выборки для обучения нейронной сети\n",
        "(обучающая_выборка, метки_обучающей_выборки), (тестовая_выборка, метки_тестовой_выборки) = терра_ии.создать_текстовые_выборки(\n",
        "    количество_анализируемых_слов,\n",
        "    размер_окна,\n",
        "    шаг, \n",
        "    путь_к_базе = '/content/Отзывы/')"
      ],
      "execution_count": null,
      "outputs": [
        {
          "output_type": "stream",
          "text": [
            "Формирование выборки завершено\n"
          ],
          "name": "stdout"
        }
      ]
    },
    {
      "cell_type": "markdown",
      "metadata": {
        "id": "3RwwQI8Rj6Oa"
      },
      "source": [
        "### Создание сети."
      ]
    },
    {
      "cell_type": "markdown",
      "metadata": {
        "id": "dHbMmjCtbhhA"
      },
      "source": [
        "Создайте сеть, состоящую из 3-х ветвей, в которую будут входить слои рассмотренные на вебинаре, такие как:\n",
        "\n",
        "*   Эмбеддинг\n",
        "*   Выравнивающий\n",
        "*   Полносвязный"
      ]
    },
    {
      "cell_type": "code",
      "metadata": {
        "id": "cYZSHgw_TMIi"
      },
      "source": [
        "# Создаем нейронную сеть\n",
        "ветвь1 = 'Эмбеддинг-50-' + количество_анализируемых_слов + '-' + размер_окна + ' Выравнивающий Полносвязный-16'\n",
        "ветвь2 = 'Полносвязный-64 Полносвязный-32 Полносвязный-16'\n",
        "ветвь3 = 'Полносвязный-32'\n",
        "\n",
        "нейронка = терра_ии.создать_составную_сеть(\n",
        "    обучающая_выборка, метки_обучающей_выборки,\n",
        "    ветвь1, ветвь2, ветвь3)"
      ],
      "execution_count": null,
      "outputs": []
    },
    {
      "cell_type": "markdown",
      "metadata": {
        "id": "zGmjx2hEcQ6b"
      },
      "source": [
        "Визуализация структуры."
      ]
    },
    {
      "cell_type": "code",
      "metadata": {
        "id": "XAxSoT5STN7S",
        "colab": {
          "base_uri": "https://localhost:8080/",
          "height": 436
        },
        "outputId": "b5088907-91f6-4a33-d656-2b4cef2b51d6"
      },
      "source": [
        "# Покажите структуру сети, с помощью функции из terra_ai. терра_ии.схема_модели(внутри функции указывается нейросеть, которую вы создали)\n",
        "терра_ии.схема_модели(нейронка)"
      ],
      "execution_count": null,
      "outputs": [
        {
          "output_type": "stream",
          "text": [
            "Схема модели:\n"
          ],
          "name": "stdout"
        },
        {
          "output_type": "execute_result",
          "data": {
            "image/png": "[encoded data removed]",
            "text/plain": [
              "<IPython.core.display.Image object>"
            ]
          },
          "metadata": {
            "tags": []
          },
          "execution_count": 43
        }
      ]
    },
    {
      "cell_type": "markdown",
      "metadata": {
        "id": "HqnScXNQcVjr"
      },
      "source": [
        "### Обучение модели."
      ]
    },
    {
      "cell_type": "code",
      "metadata": {
        "colab": {
          "base_uri": "https://localhost:8080/",
          "height": 764
        },
        "id": "evv11MieQP8L",
        "outputId": "55e712cc-4ca6-4362-a1e8-d3de5bec53a2"
      },
      "source": [
        "эксперимент = терра_ии.обучение_модели(\n",
        "    нейронка,\n",
        "    обучающая_выборка, метки_обучающей_выборки,\n",
        "    тестовая_выборка, метки_тестовой_выборки,\n",
        "    размер_пакета = 64,\n",
        "    количество_эпох = 20,\n",
        "  )"
      ],
      "execution_count": null,
      "outputs": [
        {
          "output_type": "stream",
          "text": [
            "Эпоха №1    Время обучения: 1.1c    Точность на обучающей выборке: 100.0%    Точность на проверочной выборке: 93.75%\n",
            "Эпоха №2    Время обучения: 1.05c   Точность на обучающей выборке: 100.0%    Точность на проверочной выборке: 93.75%\n",
            "Эпоха №3    Время обучения: 1.03c   Точность на обучающей выборке: 100.0%    Точность на проверочной выборке: 93.75%\n",
            "Эпоха №4    Время обучения: 1.02c   Точность на обучающей выборке: 100.0%    Точность на проверочной выборке: 93.75%\n",
            "Эпоха №5    Время обучения: 1.05c   Точность на обучающей выборке: 100.0%    Точность на проверочной выборке: 93.75%\n",
            "Эпоха №6    Время обучения: 1.04c   Точность на обучающей выборке: 100.0%    Точность на проверочной выборке: 93.75%\n",
            "Эпоха №7    Время обучения: 1.05c   Точность на обучающей выборке: 100.0%    Точность на проверочной выборке: 93.75%\n",
            "Эпоха №8    Время обучения: 1.03c   Точность на обучающей выборке: 100.0%    Точность на проверочной выборке: 93.75%\n",
            "Эпоха №9    Время обучения: 1.03c   Точность на обучающей выборке: 100.0%    Точность на проверочной выборке: 93.75%\n",
            "Эпоха №10   Время обучения: 1.04c   Точность на обучающей выборке: 100.0%    Точность на проверочной выборке: 93.75%\n",
            "Эпоха №11   Время обучения: 1.03c   Точность на обучающей выборке: 100.0%    Точность на проверочной выборке: 93.75%\n",
            "Эпоха №12   Время обучения: 1.04c   Точность на обучающей выборке: 100.0%    Точность на проверочной выборке: 93.75%\n",
            "Эпоха №13   Время обучения: 1.08c   Точность на обучающей выборке: 100.0%    Точность на проверочной выборке: 93.75%\n",
            "Эпоха №14   Время обучения: 1.11c   Точность на обучающей выборке: 100.0%    Точность на проверочной выборке: 93.75%\n",
            "Эпоха №15   Время обучения: 1.14c   Точность на обучающей выборке: 100.0%    Точность на проверочной выборке: 93.75%\n",
            "Эпоха №16   Время обучения: 1.11c   Точность на обучающей выборке: 100.0%    Точность на проверочной выборке: 93.75%\n",
            "Эпоха №17   Время обучения: 1.11c   Точность на обучающей выборке: 100.0%    Точность на проверочной выборке: 93.75%\n",
            "Эпоха №18   Время обучения: 1.11c   Точность на обучающей выборке: 100.0%    Точность на проверочной выборке: 93.75%\n",
            "Эпоха №19   Время обучения: 1.12c   Точность на обучающей выборке: 100.0%    Точность на проверочной выборке: 93.75%\n",
            "\u001b[42m\u001b[37mЭпоха №20   Время обучения: 1.1c    Точность на обучающей выборке: 100.0%    Точность на проверочной выборке: 93.75%\u001b[0m\n",
            "\n"
          ],
          "name": "stdout"
        },
        {
          "output_type": "display_data",
          "data": {
            "image/png": "[encoded data removed]",
            "text/plain": [
              "<Figure size 864x432 with 1 Axes>"
            ]
          },
          "metadata": {
            "tags": []
          }
        }
      ]
    },
    {
      "cell_type": "markdown",
      "metadata": {
        "id": "MGIpE4UUcehH"
      },
      "source": [
        "### Тестирование модели."
      ]
    },
    {
      "cell_type": "markdown",
      "metadata": {
        "id": "9TBEWEnnkGtw"
      },
      "source": [
        "Придумайте и напишите свой отзыв."
      ]
    },
    {
      "cell_type": "code",
      "metadata": {
        "id": "7Kh3QvCrTSRC",
        "colab": {
          "base_uri": "https://localhost:8080/"
        },
        "outputId": "ebc5018d-4372-487a-f146-bc61dee65207"
      },
      "source": [
        "# Демонстрация результата работы нейронной сети\n",
        "отзыв = 'Автомобиль крупногабаритный, низкая маневренность на поворотах. В салоне сидеть неудобно, цена завышена.'\n",
        "терра_ии.тест_модели_симптомы(нейронка, размер_окна, шаг,\n",
        "                              отзыв, классы = ['Негативный отзыв', 'Позитивный отзыв'])"
      ],
      "execution_count": null,
      "outputs": [
        {
          "output_type": "stream",
          "text": [
            "Негативный отзыв   -  99.99 %\n",
            "Позитивный отзыв   -  0.01 %\n",
            "\n",
            "Нейросеть думает, что это: Негативный отзыв - 99.99%\n"
          ],
          "name": "stdout"
        }
      ]
    },
    {
      "cell_type": "markdown",
      "metadata": {
        "id": "cZsdBFEdSl4v"
      },
      "source": [
        "## Задание № 3. Определение заболевания по симптомам.  \n",
        "\n",
        "Создайте нейросеть, которая будет определять заболевание по симптомам.\n",
        "\n",
        "1. Загрузите базу;  \n",
        "2. Покажите примеры из загруженной базы;  \n",
        "3. Сделайте предобработку данных для обучающей и тестовой выборки;  \n",
        "4. Создайте полносвязную модель;  \n",
        "5. Продемонстрируйте схему созданной модели;  \n",
        "6. Обучите свою модель;  \n",
        "7. Проведите тестирование модели."
      ]
    },
    {
      "cell_type": "markdown",
      "metadata": {
        "id": "YMZWrBeCUwFV"
      },
      "source": [
        "### Работа с базой."
      ]
    },
    {
      "cell_type": "code",
      "metadata": {
        "id": "6V9MVxmPmpNB",
        "colab": {
          "base_uri": "https://localhost:8080/"
        },
        "outputId": "c65c1628-d771-47ec-c132-59c94782b7e2"
      },
      "source": [
        "# Загрузите базу симптомов заболеваний\n",
        "терра_ии.загрузить_базу(база = 'СИМПТОМЫ ЗАБОЛЕВАНИЙ',\n",
        "                        справка = 'Показать')"
      ],
      "execution_count": null,
      "outputs": [
        {
          "output_type": "stream",
          "text": [
            "Загрузка данных\n",
            "Это может занять несколько минут...\n",
            "Загрузка данных завершена \n",
            "\n",
            "url: https://storage.googleapis.com/terra_ai/DataSets/symptoms.zip\n",
            "Загружена база симптомов заболеваний\n",
            "\n"
          ],
          "name": "stdout"
        }
      ]
    },
    {
      "cell_type": "code",
      "metadata": {
        "id": "iryUefF3yOKS",
        "colab": {
          "base_uri": "https://localhost:8080/"
        },
        "outputId": "b90ce0c4-fe84-4264-c21a-8365f186db73"
      },
      "source": [
        "# Покажите примеры из базы \"симптомы\"\n",
        "терра_ии.показать_примеры(база = 'симптомы')"
      ],
      "execution_count": null,
      "outputs": [
        {
          "output_type": "stream",
          "text": [
            "В данной базе содержатся симптомы следующих заболеваний:\n",
            "['Аппендицит', 'Гастрит', 'Гепатит', 'Дуоденит', 'Колит', 'Панкреатит', 'Холецистит', 'Эзофагит', 'Энтерит', 'Язва']\n",
            "\n",
            "Пример симптомов случайного заболевания:\n",
            "Заболевание:  Гепатит\n",
            "Симптомы:\n",
            "     * Желтуха начало гепатита напоминает грипп: повышение температуры тела головная боль общее недомогание\n"
          ],
          "name": "stdout"
        }
      ]
    },
    {
      "cell_type": "code",
      "metadata": {
        "id": "78xGu5UMS0Fs",
        "colab": {
          "base_uri": "https://localhost:8080/"
        },
        "outputId": "53b70180-9200-4130-fb9f-63452e27ea90"
      },
      "source": [
        "количество_анализируемых_слов = '10000'\n",
        "размер_окна = '50'\n",
        "шаг = '10'\n",
        "\n",
        "# Создаем выборки для обучения нейронной сети\n",
        "(обучающая_выборка, метки_обучающей_выборки), (тестовая_выборка, метки_тестовой_выборки) = терра_ии.создать_текстовые_выборки(\n",
        "    количество_анализируемых_слов,\n",
        "    размер_окна, \n",
        "    шаг)"
      ],
      "execution_count": null,
      "outputs": [
        {
          "output_type": "stream",
          "text": [
            "Формирование выборки завершено\n"
          ],
          "name": "stdout"
        }
      ]
    },
    {
      "cell_type": "markdown",
      "metadata": {
        "id": "YP_x-3IoF9Xw"
      },
      "source": [
        "### Создание сети.\n",
        "Состоящую из 3-х ветвей, в которую будут входить слои рассмотренные на вебинаре, такие как:\n",
        "\n",
        "*   Эмбеддинг\n",
        "*   Выравнивающий\n",
        "*   Полносвязный\n",
        "\n"
      ]
    },
    {
      "cell_type": "code",
      "metadata": {
        "id": "yv84cu6kxcrx"
      },
      "source": [
        "# Создаем нейронную сеть\n",
        "ветвь1 = 'Эмбеддинг-100-' + количество_анализируемых_слов + '-' + размер_окна + ' Выравнивающий Полносвязный-100'\n",
        "ветвь2 = 'Полносвязный-1024 Полносвязный-256 Полносвязный-64'\n",
        "ветвь3 = 'Полносвязный-100'\n",
        "нейронка = терра_ии.создать_составную_сеть(обучающая_выборка, метки_обучающей_выборки, ветвь1, ветвь2, ветвь3)"
      ],
      "execution_count": null,
      "outputs": []
    },
    {
      "cell_type": "markdown",
      "metadata": {
        "id": "pTNVVGjcVA28"
      },
      "source": [
        "Визуализация модели."
      ]
    },
    {
      "cell_type": "code",
      "metadata": {
        "id": "kXDNL1dfMi6z",
        "colab": {
          "base_uri": "https://localhost:8080/",
          "height": 436
        },
        "outputId": "a873032a-366a-442f-d276-0eae1cdc54e4"
      },
      "source": [
        "# Покажите структуру сети, с помощью функции из terra_ai. терра_ии.схема_модели(внутри функции указывается нейросеть, которую вы создали)\n",
        "терра_ии.схема_модели(нейронка)"
      ],
      "execution_count": null,
      "outputs": [
        {
          "output_type": "stream",
          "text": [
            "Схема модели:\n"
          ],
          "name": "stdout"
        },
        {
          "output_type": "execute_result",
          "data": {
            "image/png": "[encoded data removed]",
            "text/plain": [
              "<IPython.core.display.Image object>"
            ]
          },
          "metadata": {
            "tags": []
          },
          "execution_count": 8
        }
      ]
    },
    {
      "cell_type": "markdown",
      "metadata": {
        "id": "Lt3HG5X6HKvm"
      },
      "source": [
        "### Обучение нейронной сети.\n",
        "Используя свою модель, примените функцию из terra ai:\n",
        "*   терра_ии.обучение_модели()\n",
        "\n",
        "\n"
      ]
    },
    {
      "cell_type": "code",
      "metadata": {
        "colab": {
          "base_uri": "https://localhost:8080/",
          "height": 764
        },
        "id": "Qp3Z84knI80t",
        "outputId": "4ab50d02-9795-4b48-9c46-9cf5dee38b2d"
      },
      "source": [
        "эксперимент = терра_ии.обучение_модели(\n",
        "    нейронка,\n",
        "    обучающая_выборка, метки_обучающей_выборки,\n",
        "    тестовая_выборка, метки_тестовой_выборки,\n",
        "    размер_пакета = 64,\n",
        "    количество_эпох = 20\n",
        ")"
      ],
      "execution_count": null,
      "outputs": [
        {
          "output_type": "stream",
          "text": [
            "Эпоха №1    Время обучения: 10.29c  Точность на обучающей выборке: 94.49%    Точность на проверочной выборке: 77.5%\n",
            "Эпоха №2    Время обучения: 6.93c   Точность на обучающей выборке: 100.0%    Точность на проверочной выборке: 78.75%\n",
            "Эпоха №3    Время обучения: 6.93c   Точность на обучающей выборке: 100.0%    Точность на проверочной выборке: 80.0%\n",
            "Эпоха №4    Время обучения: 6.98c   Точность на обучающей выборке: 100.0%    Точность на проверочной выборке: 80.62%\n",
            "Эпоха №5    Время обучения: 7.0c    Точность на обучающей выборке: 100.0%    Точность на проверочной выборке: 81.25%\n",
            "\u001b[42m\u001b[37mЭпоха №6    Время обучения: 7.07c   Точность на обучающей выборке: 100.0%    Точность на проверочной выборке: 81.25%\u001b[0m\n",
            "Эпоха №7    Время обучения: 7.16c   Точность на обучающей выборке: 100.0%    Точность на проверочной выборке: 80.62%\n",
            "Эпоха №8    Время обучения: 7.05c   Точность на обучающей выборке: 100.0%    Точность на проверочной выборке: 80.62%\n",
            "Эпоха №9    Время обучения: 7.05c   Точность на обучающей выборке: 100.0%    Точность на проверочной выборке: 80.62%\n",
            "Эпоха №10   Время обучения: 7.02c   Точность на обучающей выборке: 100.0%    Точность на проверочной выборке: 80.0%\n",
            "Эпоха №11   Время обучения: 7.03c   Точность на обучающей выборке: 100.0%    Точность на проверочной выборке: 79.37%\n",
            "Эпоха №12   Время обучения: 7.01c   Точность на обучающей выборке: 100.0%    Точность на проверочной выборке: 79.37%\n",
            "Эпоха №13   Время обучения: 7.07c   Точность на обучающей выборке: 100.0%    Точность на проверочной выборке: 79.37%\n",
            "Эпоха №14   Время обучения: 7.2c    Точность на обучающей выборке: 100.0%    Точность на проверочной выборке: 79.37%\n",
            "Эпоха №15   Время обучения: 7.27c   Точность на обучающей выборке: 100.0%    Точность на проверочной выборке: 78.75%\n",
            "Эпоха №16   Время обучения: 7.34c   Точность на обучающей выборке: 100.0%    Точность на проверочной выборке: 79.37%\n",
            "Эпоха №17   Время обучения: 7.26c   Точность на обучающей выборке: 100.0%    Точность на проверочной выборке: 79.37%\n",
            "Эпоха №18   Время обучения: 7.35c   Точность на обучающей выборке: 100.0%    Точность на проверочной выборке: 79.37%\n",
            "Эпоха №19   Время обучения: 7.35c   Точность на обучающей выборке: 100.0%    Точность на проверочной выборке: 79.37%\n",
            "Эпоха №20   Время обучения: 7.33c   Точность на обучающей выборке: 100.0%    Точность на проверочной выборке: 79.37%\n",
            "\n"
          ],
          "name": "stdout"
        },
        {
          "output_type": "display_data",
          "data": {
            "image/png": "[encoded data removed]",
            "text/plain": [
              "<Figure size 864x432 with 1 Axes>"
            ]
          },
          "metadata": {
            "tags": []
          }
        }
      ]
    },
    {
      "cell_type": "markdown",
      "metadata": {
        "id": "WXnstvNcH1c_"
      },
      "source": [
        "### Продемонстрируйте работу нейронной сети\n",
        "Используя обученую модель для симптомов указанных в ячейке, примените функцию из terra ai:\n",
        "*   терра_ии.тест_модели_симптомы()  \n",
        "\n",
        "Можете создать другой перечень симптомов и посмотреть насколько успешно модель справляется."
      ]
    },
    {
      "cell_type": "code",
      "metadata": {
        "id": "BJiQ-eZoIKWD",
        "colab": {
          "base_uri": "https://localhost:8080/"
        },
        "outputId": "351ca691-7747-4788-e1b2-bd5148c182cc"
      },
      "source": [
        "# Демонстрация результата работы нейронной сети\n",
        "симптомы = 'боль в эпигастральной области, тошнота, рвота,  общая слабость,  болезненность при пальпации в эпига.'\n",
        "терра_ии.тест_модели_симптомы(нейронка, размер_окна, шаг,\n",
        "                              симптомы, классы=['Колит', 'Гепатит', 'Гастрит', 'Холицестит', 'Дуоденит', 'Энтерит', 'Язва', 'Эзофагит', 'Аппендицит', 'Панкреатит'])"
      ],
      "execution_count": null,
      "outputs": [
        {
          "output_type": "stream",
          "text": [
            "Колит          -  5.11 %\n",
            "Гепатит        -  2.21 %\n",
            "Гастрит        -  10.97 %\n",
            "Холицестит     -  20.18 %\n",
            "Дуоденит       -  2.7 %\n",
            "Энтерит        -  23.79 %\n",
            "Язва           -  14.8 %\n",
            "Эзофагит       -  3.66 %\n",
            "Аппендицит     -  14.28 %\n",
            "Панкреатит     -  2.32 %\n",
            "\n",
            "Нейросеть думает, что это: Энтерит - 23.79%\n"
          ],
          "name": "stdout"
        }
      ]
    }
  ]
}